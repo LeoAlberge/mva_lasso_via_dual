{
 "cells": [
  {
   "cell_type": "code",
   "execution_count": 102,
   "metadata": {},
   "outputs": [],
   "source": [
    "import numpy as np\n",
    "from scipy.optimize import check_grad\n",
    "from copy import deepcopy\n",
    "import matplotlib.pyplot as plt\n",
    "import pandas as pd"
   ]
  },
  {
   "cell_type": "markdown",
   "metadata": {},
   "source": [
    "## Generating data"
   ]
  },
  {
   "cell_type": "code",
   "execution_count": 103,
   "metadata": {},
   "outputs": [],
   "source": [
    "def generate_data(n=10, d=1000, lam=10):\n",
    "    X = np.random.rand(n,d)\n",
    "    w = np.random.rand(d)\n",
    "    w[np.random.permutation(d)[:d*90//100]] = 0\n",
    "    y = X.dot(w)\n",
    "    #y = np.random.rand(n)\n",
    "    Q = np.eye(n)*0.5\n",
    "    A = np.vstack([X.T,-X.T])\n",
    "    b = np.ones(2*d)*lam\n",
    "    p = y\n",
    "    v0 = np.zeros(n)\n",
    "    return X, y, Q, A, b, p, w, v0\n"
   ]
  },
  {
   "cell_type": "code",
   "execution_count": 104,
   "metadata": {},
   "outputs": [],
   "source": [
    "X, y, Q, A, b, p, w, v0=generate_data()\n",
    "lam=10"
   ]
  },
  {
   "cell_type": "markdown",
   "metadata": {},
   "source": [
    "$$ \\text{function}(v, t, Q, A, b, p) = t*(v^TQv + v^Tp) -\\sum_{i=1}^{m} -log(b_i -A_iv) $$"
   ]
  },
  {
   "cell_type": "code",
   "execution_count": 105,
   "metadata": {},
   "outputs": [],
   "source": [
    "def function(v, t, Q, A, b, p):\n",
    "    \"\"\"\n",
    "    Objective function for the barrier method\n",
    "    \"\"\"\n",
    "    v = v.reshape(-1,1)\n",
    "    p = p.reshape(-1,1)\n",
    "    b = b.reshape(-1,1)\n",
    "\n",
    "    return t*(v.T.dot(Q).dot(v) + v.T.dot(p))[0][0] -np.log((b-A.dot(v))).sum()"
   ]
  },
  {
   "cell_type": "markdown",
   "metadata": {},
   "source": [
    "$$ \\text{general_function}(v, Q, p) = v^TQv + v^Tp $$"
   ]
  },
  {
   "cell_type": "code",
   "execution_count": 106,
   "metadata": {},
   "outputs": [],
   "source": [
    "def general_function(v, Q, p):\n",
    "    \"\"\"\n",
    "    Global objective function we want to maximize subject to the constraints\n",
    "    \"\"\"\n",
    "    v = v.reshape(-1,1)\n",
    "    p = p.reshape(-1,1)\n",
    "    return (v.T.dot(Q).dot(v) + v.T.dot(p))[0][0] "
   ]
  },
  {
   "cell_type": "code",
   "execution_count": 107,
   "metadata": {},
   "outputs": [],
   "source": [
    "def check_feasibility(v,A,b):\n",
    "    \"\"\"\n",
    "    Checking the constraint for the backtracking linesearch\n",
    "    \"\"\"\n",
    "    return (A.dot(v)<=b).all()"
   ]
  },
  {
   "cell_type": "markdown",
   "metadata": {},
   "source": [
    "$$ \\nabla(v, t, Q, A, b, p) = t*(2Qv + p) + A^Td $$ \n",
    "\n",
    "where $$d_i = 1/(b_i -A_iv)$$"
   ]
  },
  {
   "cell_type": "code",
   "execution_count": 108,
   "metadata": {},
   "outputs": [],
   "source": [
    "def gradient(v, t, Q, A, b, p):\n",
    "    \"\"\"\n",
    "    Gradient of the objective function\n",
    "    \"\"\"\n",
    "    v = v.reshape(-1,1)\n",
    "    p = p.reshape(-1,1)\n",
    "    b = b.reshape(-1,1)\n",
    "    d = 1/(b-A.dot(v))\n",
    "    grad  =  t*(2*Q.dot(v)+p) +  A.T.dot(d)\n",
    "    return grad.reshape(-1)"
   ]
  },
  {
   "cell_type": "markdown",
   "metadata": {},
   "source": [
    "$$ \\nabla^2(v, t, Q, A, b) = t*(2Q) + A^T\\text{diag}(d)A $$ \n",
    "\n",
    "where $$d_i = 1/(b_i -A_iv)$$"
   ]
  },
  {
   "cell_type": "code",
   "execution_count": 109,
   "metadata": {},
   "outputs": [],
   "source": [
    "def hessian(v, t, Q, A, b):\n",
    "    \"\"\"\n",
    "    Hessian of the objective function\n",
    "    \"\"\"\n",
    "    v = v.reshape(-1,1)\n",
    "    b = b.reshape(-1,1)\n",
    "    d = 1/(b-A.dot(v))\n",
    "    hess = A.T.dot(np.power(np.diag(d.reshape(-1)),2)).dot(A) + 2*t*Q\n",
    "    return hess"
   ]
  },
  {
   "cell_type": "code",
   "execution_count": 110,
   "metadata": {},
   "outputs": [],
   "source": [
    "t=1"
   ]
  },
  {
   "cell_type": "code",
   "execution_count": 111,
   "metadata": {},
   "outputs": [
    {
     "data": {
      "text/plain": [
       "0.00022000993506701835"
      ]
     },
     "execution_count": 111,
     "metadata": {},
     "output_type": "execute_result"
    }
   ],
   "source": [
    "# numerically checking the gradient on 0\n",
    "check_grad(func=lambda x:function(x, t, Q, A, b, p),\n",
    "           grad=lambda x:gradient(x, t, Q, A, b, p),\n",
    "           x0=v0)"
   ]
  },
  {
   "cell_type": "code",
   "execution_count": 112,
   "metadata": {},
   "outputs": [],
   "source": [
    "def centering_step(Q, p, A, b, t, v0 ,eps):\n",
    "    \"\"\"\n",
    "    Centering step method implmenting the Newton method for the barrier function.\n",
    "    \"\"\"\n",
    "    v_sequence = []\n",
    "    v_sequence.append(v0)\n",
    "    v = deepcopy(v0)\n",
    "    lambda_2_sequence = []\n",
    "    convergence = False\n",
    "    while(not(convergence)):\n",
    "        inv_hess = np.linalg.inv(hessian(v, t, Q, A, b))\n",
    "        grad = gradient(v, t, Q, A, b, p)\n",
    "        delta_x = -inv_hess.dot(grad)\n",
    "        lambda_2 = grad.T.dot(inv_hess).dot(grad)\n",
    "        lambda_2_sequence.append(lambda_2/2)\n",
    "        if lambda_2/2 <= eps:\n",
    "            convergence=True\n",
    "            break\n",
    "        else:\n",
    "            v = v + delta_x*backtracking_linesearch(grad, delta_x, v, t, Q, A, b, p)\n",
    "            v_sequence.append(deepcopy(v))\n",
    "    return v_sequence, lambda_2_sequence"
   ]
  },
  {
   "cell_type": "code",
   "execution_count": 113,
   "metadata": {},
   "outputs": [],
   "source": [
    "def backtracking_linesearch(grad, delta_x, v, t, Q, A, b, p):\n",
    "    \"\"\"\n",
    "    Implementing the backtracking linesearch.\n",
    "    \"\"\"\n",
    "    alpha=0.25\n",
    "    beta=0.5\n",
    "    t_backtrack = 1.0\n",
    "    \n",
    "    while(not(check_feasibility(v+t_backtrack*delta_x,A,b))\n",
    "          or (function(v+t_backtrack*delta_x, t, Q, A, b, p)>function(v, t, Q, A, b, p)+alpha*t_backtrack*grad.T.dot(delta_x))):\n",
    "        t_backtrack = beta*t_backtrack\n",
    "    return t_backtrack"
   ]
  },
  {
   "cell_type": "code",
   "execution_count": 114,
   "metadata": {},
   "outputs": [],
   "source": [
    "ts = [1,10,100,1000,10000]\n",
    "eps = 10e-10"
   ]
  },
  {
   "cell_type": "code",
   "execution_count": 115,
   "metadata": {},
   "outputs": [
    {
     "data": {
      "image/png": "[encoded data removed]",
      "text/plain": [
       "<Figure size 1080x720 with 2 Axes>"
      ]
     },
     "metadata": {
      "needs_background": "light"
     },
     "output_type": "display_data"
    }
   ],
   "source": [
    "plt.figure(figsize=(15,10))\n",
    "plt.title('Centering step for different values of t')\n",
    "ax_1 = plt.subplot(2,1,1)\n",
    "plt.xlabel('Number of Newton iterations')\n",
    "plt.ylabel('$log_{10}(p-p*)$')\n",
    "\n",
    "ax_2 = plt.subplot(2,1,2)\n",
    "plt.xlabel('Number of Newton iterations')\n",
    "plt.ylabel('$log_{10}(\\epsilon)$')\n",
    "\n",
    "for t in ts:\n",
    "    v_sequence, lambda_2_sequence = centering_step(Q, p, A, b, t, v0 ,eps)\n",
    "    function_values = []\n",
    "    for v in v_sequence:\n",
    "        function_values.append(function(v, t, Q, A, b, p))\n",
    "    function_values = np.array(function_values)\n",
    "    function_values = np.log10(function_values[:-1] - function_values[-1] )\n",
    "    lambda_2_sequence = np.array(lambda_2_sequence)\n",
    "    lambda_2_sequence = np.log10(lambda_2_sequence)\n",
    "\n",
    "    ax_1.step(range(len(v_sequence)-1),function_values, label='t :'+ str(t))\n",
    "    ax_1.legend()\n",
    "    \n",
    "    ax_2.step(range(len(lambda_2_sequence)),lambda_2_sequence, label='t :'+ str(t))\n",
    "    ax_2.legend()"
   ]
  },
  {
   "cell_type": "code",
   "execution_count": 116,
   "metadata": {},
   "outputs": [],
   "source": [
    "def barrier_method(Q, p, A, b, v0, eps, t0, mu):\n",
    "    \"\"\"\n",
    "    Implementing the barrier method\n",
    "    \"\"\"\n",
    "    m = float(A.shape[0])\n",
    "    t = t0\n",
    "    v_sequence = []\n",
    "    v_sequence.append(v0)\n",
    "    v = deepcopy(v0)\n",
    "    newton_iters = 0\n",
    "    newton_iters_tab = []\n",
    "    convergence=False\n",
    "    while(not(convergence)):\n",
    "        v_star = deepcopy(centering_step(Q, p, A, b, t, v ,eps)[0][-1])\n",
    "        newton_iters += len(centering_step(Q, p, A, b, t, v ,eps)[0]) - 1\n",
    "        newton_iters_tab.append(newton_iters)\n",
    "        v = v_star\n",
    "        v_sequence.append(v_star)\n",
    "        if m/t < eps:\n",
    "            convergence = True\n",
    "            break\n",
    "        else:\n",
    "            t = mu*t\n",
    "    return v_sequence,newton_iters_tab, t\n"
   ]
  },
  {
   "cell_type": "code",
   "execution_count": 127,
   "metadata": {},
   "outputs": [
    {
     "name": "stdout",
     "output_type": "stream",
     "text": [
      "2\n",
      "5\n",
      "10\n",
      "15\n",
      "20\n",
      "50\n",
      "100\n",
      "500\n"
     ]
    },
    {
     "data": {
      "image/png": "[encoded data removed]",
      "text/plain": [
       "<Figure size 1080x720 with 2 Axes>"
      ]
     },
     "metadata": {
      "needs_background": "light"
     },
     "output_type": "display_data"
    }
   ],
   "source": [
    "plt.figure(figsize=(15,10))\n",
    "plt.title('Barrier method for different values of '+'$\\mu$')\n",
    "ax_1 = plt.subplot(2,1,1)\n",
    "plt.xlabel('Number of Newton iterations')\n",
    "plt.ylabel('$log_{10}(p-p*)$')\n",
    "\n",
    "ax_2 = plt.subplot(2,1,2)\n",
    "plt.xlabel('Number of Newton iterations')\n",
    "plt.ylabel('$log_{10}(\\epsilon)$')\n",
    "\n",
    "mus = [2, 5, 10, 15, 20, 50, 100, 500]\n",
    "\n",
    "eps = 10e-7\n",
    "for mu in mus:\n",
    "    print(mu)\n",
    "    t0=1\n",
    "    v_sequence, newton_iters_tab, t=barrier_method(Q,p,A,b,v0,eps=eps,t0=t0,mu=mu)\n",
    "    eps_sequence = np.log10(np.array([float(A.shape[0])/(t0*mu**(i+1)) for  i in range(len(v_sequence) -1)]))\n",
    "    function_values = []\n",
    "    for v in v_sequence:\n",
    "        function_values.append(general_function(v, Q, p))\n",
    "    function_values = np.array(function_values)\n",
    "    function_values = np.log10(function_values[:-1] - function_values[-1])  \n",
    "    ax_1.step(newton_iters_tab,function_values,label='$\\mu:$' +str(mu))\n",
    "    ax_1.legend()    \n",
    "    \n",
    "    ax_2.step(newton_iters_tab,eps_sequence,label='$\\mu:$' +str(mu))\n",
    "    ax_2.legend()\n"
   ]
  },
  {
   "cell_type": "code",
   "execution_count": 119,
   "metadata": {},
   "outputs": [],
   "source": [
    "v_sequence, newton_iters_tab, t =barrier_method(Q,p,A,b,v0,eps=10e-6,t0=1,mu=50)"
   ]
  },
  {
   "cell_type": "code",
   "execution_count": 120,
   "metadata": {},
   "outputs": [],
   "source": [
    "def get_primal_from_dual(v, A, b , t, d=1000):\n",
    "    \"\"\"\n",
    "    Get primal solution from the dual\n",
    "    \"\"\"\n",
    "    v = v.reshape(-1)\n",
    "    res = -1/(t*(A.dot(v)-b))\n",
    "    res = -res[:d]+ res[d:]\n",
    "    return res"
   ]
  },
  {
   "cell_type": "code",
   "execution_count": 121,
   "metadata": {},
   "outputs": [],
   "source": [
    "w_prime = get_primal_from_dual(v_sequence[-1], A, b , t)"
   ]
  },
  {
   "cell_type": "markdown",
   "metadata": {},
   "source": [
    "$$ \\text{objective primal} = \\frac{1}{2}||X\\omega -y||^2_2  +\\lambda||\\omega||_1$$"
   ]
  },
  {
   "cell_type": "code",
   "execution_count": 128,
   "metadata": {},
   "outputs": [],
   "source": [
    "def objective_primal(X,w,y,lam):\n",
    "    \"\"\"\n",
    "    Objective function of the dual\n",
    "    \"\"\"\n",
    "    y = y.reshape(-1,1)\n",
    "    w = w.reshape(-1,1)\n",
    "    f = 0.5*(X.dot(w)-y).T.dot(X.dot(w)-y) + lam*np.linalg.norm(w.reshape(-1), ord=1)\n",
    "    return f[0][0]"
   ]
  },
  {
   "cell_type": "code",
   "execution_count": 123,
   "metadata": {},
   "outputs": [
    {
     "data": {
      "text/plain": [
       "297.5556909849526"
      ]
     },
     "execution_count": 123,
     "metadata": {},
     "output_type": "execute_result"
    }
   ],
   "source": [
    "objective_primal(X,w_prime,y,lam)"
   ]
  },
  {
   "cell_type": "code",
   "execution_count": 124,
   "metadata": {},
   "outputs": [
    {
     "data": {
      "text/plain": [
       "297.55567420713857"
      ]
     },
     "execution_count": 124,
     "metadata": {},
     "output_type": "execute_result"
    }
   ],
   "source": [
    "-general_function(v_sequence[-1], Q, p)"
   ]
  },
  {
   "cell_type": "code",
   "execution_count": 131,
   "metadata": {},
   "outputs": [
    {
     "data": {
      "text/plain": [
       "Text(0.5, 1.0, 'Coefficients of the primal solution')"
      ]
     },
     "execution_count": 131,
     "metadata": {},
     "output_type": "execute_result"
    },
    {
     "data": {
      "image/png": "[encoded data removed]",
      "text/plain": [
       "<Figure size 432x288 with 1 Axes>"
      ]
     },
     "metadata": {
      "needs_background": "light"
     },
     "output_type": "display_data"
    }
   ],
   "source": [
    "plt.plot(w_prime)\n",
    "plt.title('Coefficients of the primal solution')"
   ]
  },
  {
   "cell_type": "markdown",
   "metadata": {},
   "source": [
    "#### Influence of $\\mu$ on the primal solution"
   ]
  },
  {
   "cell_type": "code",
   "execution_count": 134,
   "metadata": {},
   "outputs": [
    {
     "name": "stdout",
     "output_type": "stream",
     "text": [
      "2\n",
      "5\n",
      "10\n",
      "15\n",
      "20\n",
      "50\n",
      "100\n",
      "500\n"
     ]
    },
    {
     "data": {
      "image/png": "[encoded data removed]",
      "text/plain": [
       "<Figure size 720x720 with 1 Axes>"
      ]
     },
     "metadata": {
      "needs_background": "light"
     },
     "output_type": "display_data"
    }
   ],
   "source": [
    "plt.figure(figsize=(10,10))\n",
    "plt.title('Coefficients of the primal solution')\n",
    "for mu in mus:\n",
    "    print(mu)\n",
    "    v_sequence, newton_iters_tab, t =barrier_method(Q,p,A,b,v0,eps=10e-6,t0=1,mu=mu)\n",
    "    w_prime = get_primal_from_dual(v_sequence[-1], A, b , t)\n",
    "    plt.plot(w_prime,label='$\\mu:$' +str(mu))\n",
    "    plt.legend()\n",
    " "
   ]
  }
 ],
 "metadata": {
  "kernelspec": {
   "display_name": "Python 3",
   "language": "python",
   "name": "python3"
  },
  "language_info": {
   "codemirror_mode": {
    "name": "ipython",
    "version": 3
   },
   "file_extension": ".py",
   "mimetype": "text/x-python",
   "name": "python",
   "nbconvert_exporter": "python",
   "pygments_lexer": "ipython3",
   "version": "3.6.6"
  }
 },
 "nbformat": 4,
 "nbformat_minor": 2
}
